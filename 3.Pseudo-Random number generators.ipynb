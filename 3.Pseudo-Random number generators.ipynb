{
 "cells": [
  {
   "cell_type": "code",
   "execution_count": 1,
   "id": "c4ff4d97",
   "metadata": {
    "scrolled": false
   },
   "outputs": [
    {
     "name": "stdout",
     "output_type": "stream",
     "text": [
      "Populating the interactive namespace from numpy and matplotlib\n"
     ]
    }
   ],
   "source": [
    "%pylab inline\n",
    "import random"
   ]
  },
  {
   "cell_type": "markdown",
   "id": "2e86f546",
   "metadata": {},
   "source": [
    "## Random Number generator\n",
    "A pseudo-random number generator is an object that outputs a value each time it is called.\n",
    "\n",
    "the object has a **state** which is initialized using the `seed` command and is updated each time the generator is called.  \n",
    "\n",
    "The output value is a function of the seed."
   ]
  },
  {
   "cell_type": "code",
   "execution_count": 2,
   "id": "0fe27b8d",
   "metadata": {},
   "outputs": [
    {
     "name": "stdout",
     "output_type": "stream",
     "text": [
      "0, 0, 0, 1, 0, 0, 1, 0, "
     ]
    }
   ],
   "source": [
    "random.seed(22)\n",
    "print(random.randrange(2),end=\", \")\n",
    "print(random.randrange(2),end=\", \")\n",
    "print(random.randrange(2),end=\", \")\n",
    "print(random.randrange(2),end=\", \")\n",
    "state=random.getstate()\n",
    "print(random.randrange(2),end=\", \")\n",
    "print(random.randrange(2),end=\", \")\n",
    "print(random.randrange(2),end=\", \")\n",
    "print(random.randrange(2),end=\", \")"
   ]
  },
  {
   "cell_type": "code",
   "execution_count": 3,
   "id": "c476ad8d",
   "metadata": {},
   "outputs": [
    {
     "name": "stdout",
     "output_type": "stream",
     "text": [
      "0, 0, 1, 0, "
     ]
    }
   ],
   "source": [
    "random.setstate(state)\n",
    "print(random.randrange(2),end=\", \")\n",
    "print(random.randrange(2),end=\", \")\n",
    "print(random.randrange(2),end=\", \")\n",
    "print(random.randrange(2),end=\", \")"
   ]
  },
  {
   "cell_type": "markdown",
   "id": "0225e923",
   "metadata": {},
   "source": [
    "The binary sequence is determined by the initial state.\n",
    "\n",
    "Why do we say that the generated is **PseudoRandom**?\n",
    "\n",
    "Because it looks random to most tests"
   ]
  },
  {
   "cell_type": "code",
   "execution_count": null,
   "id": "6e86f1dc",
   "metadata": {},
   "outputs": [],
   "source": [
    "random.random?"
   ]
  },
  {
   "cell_type": "code",
   "execution_count": 4,
   "id": "54d66b16",
   "metadata": {
    "scrolled": true
   },
   "outputs": [],
   "source": [
    "def generate(n=10):\n",
    "    seq=[(random.random()>0.5)*2-1 for i in range(n)]\n",
    "    return array(seq)"
   ]
  },
  {
   "cell_type": "code",
   "execution_count": 5,
   "id": "cba2e8e1",
   "metadata": {},
   "outputs": [
    {
     "data": {
      "text/plain": [
       "array([ 1,  1,  1, -1,  1, -1,  1, -1, -1, -1])"
      ]
     },
     "execution_count": 5,
     "metadata": {},
     "output_type": "execute_result"
    }
   ],
   "source": [
    "random.seed(23)\n",
    "n=100000\n",
    "R=generate(n)\n",
    "R[:10]"
   ]
  },
  {
   "cell_type": "markdown",
   "id": "02d83e11",
   "metadata": {},
   "source": [
    "### Pseudo Random number generators pass most tests\n",
    " * An ideal random number generator will provide the same distribution of outcomes as a true random generator for every test."
   ]
  },
  {
   "cell_type": "code",
   "execution_count": 58,
   "id": "251d28a6",
   "metadata": {
    "scrolled": true
   },
   "outputs": [
    {
     "data": {
      "text/plain": [
       "0.00116"
      ]
     },
     "execution_count": 58,
     "metadata": {},
     "output_type": "execute_result"
    }
   ],
   "source": [
    "# mean\n",
    "sum(R)/n"
   ]
  },
  {
   "cell_type": "code",
   "execution_count": 10,
   "id": "8c168147",
   "metadata": {},
   "outputs": [
    {
     "data": {
      "text/plain": [
       "array([-1., -1., -1., ...,  1.,  1.,  1.])"
      ]
     },
     "execution_count": 10,
     "metadata": {},
     "output_type": "execute_result"
    }
   ],
   "source": [
    "I=ones(n)\n",
    "I[:int(n/2)]=-1  # mean after flip sign of first part \n",
    "I"
   ]
  },
  {
   "cell_type": "code",
   "execution_count": 11,
   "id": "850c0333",
   "metadata": {},
   "outputs": [
    {
     "data": {
      "text/plain": [
       "0.00428"
      ]
     },
     "execution_count": 11,
     "metadata": {},
     "output_type": "execute_result"
    }
   ],
   "source": [
    "sum(R*I)/n"
   ]
  },
  {
   "cell_type": "code",
   "execution_count": 12,
   "id": "6c168af6",
   "metadata": {},
   "outputs": [
    {
     "data": {
      "text/plain": [
       "array([-1.,  1., -1., ...,  1., -1.,  1.])"
      ]
     },
     "execution_count": 12,
     "metadata": {},
     "output_type": "execute_result"
    }
   ],
   "source": [
    "I=ones(n)\n",
    "I[0:n:2]=-1    # mean after flip sign even locations\n",
    "I"
   ]
  },
  {
   "cell_type": "code",
   "execution_count": 13,
   "id": "96f84211",
   "metadata": {},
   "outputs": [
    {
     "data": {
      "text/plain": [
       "0.00308"
      ]
     },
     "execution_count": 13,
     "metadata": {},
     "output_type": "execute_result"
    }
   ],
   "source": [
    "sum(R*I)/n"
   ]
  },
  {
   "cell_type": "markdown",
   "id": "e1910b6a",
   "metadata": {},
   "source": [
    "### It is impossible to construct a PRNG that passes all tests\n",
    "* If the tester with unlimited computational power, it can run a separate test for each possible seed and identify the seed that conforms with the sequence."
   ]
  },
  {
   "cell_type": "markdown",
   "id": "09e8aae8",
   "metadata": {},
   "source": [
    "### In practice, `python.random` is good enough\n",
    "* But not always, for cryptographic/Key-Chain applications, the recommendation is to use the stronger `secrets` module.\n",
    "* Or a [hardware random number generator](https://en.wikipedia.org/wiki/Hardware_random_number_generator) "
   ]
  },
  {
   "cell_type": "markdown",
   "id": "1faacc29",
   "metadata": {},
   "source": [
    "### Hash Function\n",
    "* A **random mapping** is a function $R:\\{1,\\ldots,n\\} \\to \\{1,\\ldots,m\\}$ such that for \n",
    "each $1 \\leq i \\leq n$ the value $R(i)$ is distributed uniformly over $\\{1,\\ldots,m\\}$\n",
    "* A **Hash function family** $H_j$ is a collection of functions $H_j:\\{1,\\ldots,n\\} \\to \\{1,\\ldots,m\\}$ such that if $j$ is chosen at random then $H_j(i)$ is indistinguishable from a random mapping. (Assuming the adversary has restricted rsources)."
   ]
  },
  {
   "cell_type": "markdown",
   "id": "f9011556",
   "metadata": {},
   "source": [
    "### Homework\n",
    "Use the functions in the module `random` to construct a hash function."
   ]
  },
  {
   "cell_type": "code",
   "execution_count": null,
   "id": "30f69981",
   "metadata": {},
   "outputs": [],
   "source": []
  }
 ],
 "metadata": {
  "kernelspec": {
   "display_name": "Python 3 (ipykernel)",
   "language": "python",
   "name": "python3"
  },
  "language_info": {
   "codemirror_mode": {
    "name": "ipython",
    "version": 3
   },
   "file_extension": ".py",
   "mimetype": "text/x-python",
   "name": "python",
   "nbconvert_exporter": "python",
   "pygments_lexer": "ipython3",
   "version": "3.9.6"
  }
 },
 "nbformat": 4,
 "nbformat_minor": 5
}
