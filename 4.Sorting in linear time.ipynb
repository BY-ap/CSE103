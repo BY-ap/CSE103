{
 "cells": [
  {
   "cell_type": "markdown",
   "id": "6f3b065f",
   "metadata": {},
   "source": [
    "### Sorting data drawn IID "
   ]
  },
  {
   "cell_type": "code",
   "execution_count": 1,
   "id": "4308dac8",
   "metadata": {},
   "outputs": [
    {
     "name": "stdout",
     "output_type": "stream",
     "text": [
      "Populating the interactive namespace from numpy and matplotlib\n"
     ]
    }
   ],
   "source": [
    "%pylab inline\n",
    "import random"
   ]
  },
  {
   "cell_type": "code",
   "execution_count": 2,
   "id": "6187ce82",
   "metadata": {},
   "outputs": [],
   "source": [
    "n=10000\n",
    "R=array([random.uniform(0,1) for i in range(n)])"
   ]
  },
  {
   "cell_type": "code",
   "execution_count": 3,
   "id": "bae6e9d7",
   "metadata": {},
   "outputs": [
    {
     "data": {
      "image/png": "[encoded data removed]",
      "text/plain": [
       "<Figure size 432x288 with 1 Axes>"
      ]
     },
     "metadata": {
      "needs_background": "light"
     },
     "output_type": "display_data"
    }
   ],
   "source": [
    "hist(R,density=True);"
   ]
  },
  {
   "cell_type": "code",
   "execution_count": 4,
   "id": "cc557420",
   "metadata": {},
   "outputs": [],
   "source": [
    "L=[[] for i in range(n)]\n",
    "\n",
    "for r in R:\n",
    "    i=int(r*n)\n",
    "    L[i].append(r)"
   ]
  },
  {
   "cell_type": "code",
   "execution_count": 5,
   "id": "dbac8739",
   "metadata": {
    "scrolled": true
   },
   "outputs": [
    {
     "data": {
      "text/plain": [
       "[[],\n",
       " [],\n",
       " [],\n",
       " [],\n",
       " [],\n",
       " [0.000501547486081888, 0.0005566567091527252, 0.0005642536301453394],\n",
       " [],\n",
       " [0.0007252136749397176, 0.000793469977724004],\n",
       " [0.0008003546377983728],\n",
       " []]"
      ]
     },
     "execution_count": 5,
     "metadata": {},
     "output_type": "execute_result"
    }
   ],
   "source": [
    "L[:10] "
   ]
  },
  {
   "cell_type": "code",
   "execution_count": 6,
   "id": "bb5bf8d2",
   "metadata": {},
   "outputs": [
    {
     "data": {
      "text/plain": [
       "7"
      ]
     },
     "execution_count": 6,
     "metadata": {},
     "output_type": "execute_result"
    }
   ],
   "source": [
    "max([len(l) for l in L])"
   ]
  },
  {
   "cell_type": "code",
   "execution_count": 7,
   "id": "188e7689",
   "metadata": {},
   "outputs": [],
   "source": [
    "_sorted=[]\n",
    "for l in L:\n",
    "    _sorted +=sorted(l)"
   ]
  },
  {
   "cell_type": "code",
   "execution_count": 8,
   "id": "6d3ffeb8",
   "metadata": {},
   "outputs": [
    {
     "data": {
      "text/plain": [
       "[0.000501547486081888,\n",
       " 0.0005566567091527252,\n",
       " 0.0005642536301453394,\n",
       " 0.0007252136749397176,\n",
       " 0.000793469977724004,\n",
       " 0.0008003546377983728,\n",
       " 0.0010268360551871636,\n",
       " 0.001102752923859751,\n",
       " 0.001192482959411434,\n",
       " 0.0013215174508887095]"
      ]
     },
     "execution_count": 8,
     "metadata": {},
     "output_type": "execute_result"
    }
   ],
   "source": [
    "_sorted[:10]"
   ]
  },
  {
   "cell_type": "code",
   "execution_count": 9,
   "id": "fede5e3b",
   "metadata": {},
   "outputs": [
    {
     "data": {
      "text/plain": [
       "True"
      ]
     },
     "execution_count": 9,
     "metadata": {},
     "output_type": "execute_result"
    }
   ],
   "source": [
    "resort=sorted(_sorted)   # checking that the order is good.\n",
    "resort==_sorted"
   ]
  },
  {
   "cell_type": "markdown",
   "id": "747afa2b",
   "metadata": {},
   "source": [
    "### What about distributions other than uniform\n",
    "We can use the CDF of a distribution to transform it into a uniform distribution. "
   ]
  },
  {
   "cell_type": "code",
   "execution_count": 21,
   "id": "48235770",
   "metadata": {},
   "outputs": [],
   "source": [
    "from scipy.stats import norm"
   ]
  },
  {
   "cell_type": "code",
   "execution_count": 20,
   "id": "ba13ce2e",
   "metadata": {},
   "outputs": [],
   "source": [
    "mu=1; sigma=1; n=10000\n",
    "s = np.random.normal(mu, sigma, n)"
   ]
  },
  {
   "cell_type": "code",
   "execution_count": 22,
   "id": "2cc3ec85",
   "metadata": {
    "scrolled": true
   },
   "outputs": [
    {
     "data": {
      "image/png": "[encoded data removed]",
      "text/plain": [
       "<Figure size 432x288 with 1 Axes>"
      ]
     },
     "metadata": {
      "needs_background": "light"
     },
     "output_type": "display_data"
    }
   ],
   "source": [
    "xmin=-4; xmax=6; delta=1/n\n",
    "x=arange(xmin,xmax,delta)\n",
    "cdf=norm.cdf(x,loc=mu,scale=sigma)\n",
    "plot(x,cdf)\n",
    "grid()\n",
    "plt.hist(s, 30, density=True);"
   ]
  },
  {
   "cell_type": "markdown",
   "id": "87c54d2b",
   "metadata": {},
   "source": [
    "### Transforming the distribution to a uniform distribution\n",
    "We us $F$ to denote the CDF\n",
    "* $F(x) = P(X \\leq x)$\n",
    "*\n",
    "* $P( a < X \\leq b) = F(b) - F(a)$\n",
    "*\n",
    "* $P(F(a) < F(X) \\leq F(b)) = F(b) - F(a)$\n",
    "*\n",
    "* $F(X)$ is distributed uniformly betweeen 0 and 1 "
   ]
  },
  {
   "cell_type": "code",
   "execution_count": 23,
   "id": "7f55176b",
   "metadata": {},
   "outputs": [
    {
     "data": {
      "image/png": "[encoded data removed]",
      "text/plain": [
       "<Figure size 432x288 with 1 Axes>"
      ]
     },
     "metadata": {
      "needs_background": "light"
     },
     "output_type": "display_data"
    }
   ],
   "source": [
    "index=np.array(x.shape[0]*(s-xmin)/(xmax-xmin),dtype=np.int)\n",
    "scaled=cdf[index]\n",
    "hist(scaled); #,density=True);"
   ]
  },
  {
   "cell_type": "code",
   "execution_count": 24,
   "id": "8eda355a",
   "metadata": {},
   "outputs": [],
   "source": [
    "L=[[] for i in range(n)]\n",
    "\n",
    "for j in range(s.shape[0]):\n",
    "    r=s[j]\n",
    "    _scale=scaled[j]\n",
    "    i=int(_scale*n)\n",
    "    L[i].append(r)"
   ]
  },
  {
   "cell_type": "code",
   "execution_count": 25,
   "id": "23a445c0",
   "metadata": {},
   "outputs": [
    {
     "data": {
      "text/plain": [
       "[[-2.466552099210766, -2.4726017045569764],\n",
       " [-2.4028533165032924, -2.4223962810446587],\n",
       " [-2.316905350468504, -2.296172627406647],\n",
       " [-2.223086147924252,\n",
       "  -2.223963539090094,\n",
       "  -2.2255317780112436,\n",
       "  -2.228940905821315],\n",
       " [-2.1624227499338353],\n",
       " [-2.0910215071775102, -2.0922283311766328]]"
      ]
     },
     "execution_count": 25,
     "metadata": {},
     "output_type": "execute_result"
    }
   ],
   "source": [
    "[l for l in L[:10] if len(l)>0]"
   ]
  },
  {
   "cell_type": "code",
   "execution_count": 26,
   "id": "8694faa5",
   "metadata": {},
   "outputs": [
    {
     "data": {
      "text/plain": [
       "7"
      ]
     },
     "execution_count": 26,
     "metadata": {},
     "output_type": "execute_result"
    }
   ],
   "source": [
    "max([len(l) for l in L])"
   ]
  },
  {
   "cell_type": "code",
   "execution_count": 27,
   "id": "3bf325e3",
   "metadata": {},
   "outputs": [],
   "source": [
    "_sorted=[]\n",
    "for l in L:\n",
    "    _sorted +=sorted(l)"
   ]
  },
  {
   "cell_type": "code",
   "execution_count": 28,
   "id": "71550cfb",
   "metadata": {},
   "outputs": [
    {
     "data": {
      "text/plain": [
       "[-2.4726017045569764,\n",
       " -2.466552099210766,\n",
       " -2.4223962810446587,\n",
       " -2.4028533165032924,\n",
       " -2.316905350468504,\n",
       " -2.296172627406647,\n",
       " -2.228940905821315,\n",
       " -2.2255317780112436,\n",
       " -2.223963539090094,\n",
       " -2.223086147924252]"
      ]
     },
     "execution_count": 28,
     "metadata": {},
     "output_type": "execute_result"
    }
   ],
   "source": [
    "_sorted[:10]"
   ]
  },
  {
   "cell_type": "code",
   "execution_count": 29,
   "id": "0141acf4",
   "metadata": {},
   "outputs": [
    {
     "data": {
      "text/plain": [
       "True"
      ]
     },
     "execution_count": 29,
     "metadata": {},
     "output_type": "execute_result"
    }
   ],
   "source": [
    "resort=sorted(_sorted)   # checking that the order is good.\n",
    "resort==_sorted"
   ]
  }
 ],
 "metadata": {
  "kernelspec": {
   "display_name": "Python 3 (ipykernel)",
   "language": "python",
   "name": "python3"
  },
  "language_info": {
   "codemirror_mode": {
    "name": "ipython",
    "version": 3
   },
   "file_extension": ".py",
   "mimetype": "text/x-python",
   "name": "python",
   "nbconvert_exporter": "python",
   "pygments_lexer": "ipython3",
   "version": "3.9.6"
  }
 },
 "nbformat": 4,
 "nbformat_minor": 5
}
