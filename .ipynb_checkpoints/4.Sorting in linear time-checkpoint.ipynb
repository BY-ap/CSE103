{
 "cells": [
  {
   "cell_type": "markdown",
   "id": "6f3b065f",
   "metadata": {},
   "source": [
    "## Sorting data that comes from a distribution\n",
    "\n",
    "The best sorting time for arbitrary data: $O(n \\log n)$ (quicksort)\n",
    "\n",
    "For data that is sampled from a fixed distribution (Independent Identically Distributed or IID) we can sort in $O(n)$ time!"
   ]
  },
  {
   "cell_type": "code",
   "execution_count": 2,
   "id": "4308dac8",
   "metadata": {},
   "outputs": [
    {
     "name": "stdout",
     "output_type": "stream",
     "text": [
      "Populating the interactive namespace from numpy and matplotlib\n"
     ]
    }
   ],
   "source": [
    "%pylab inline\n",
    "import random"
   ]
  },
  {
   "cell_type": "markdown",
   "id": "d5f6db79",
   "metadata": {},
   "source": [
    "### Easiest case: Uniform distribution."
   ]
  },
  {
   "cell_type": "code",
   "execution_count": 3,
   "id": "6187ce82",
   "metadata": {},
   "outputs": [],
   "source": [
    "n=10000\n",
    "R=array([random.uniform(0,1) for i in range(n)])"
   ]
  },
  {
   "cell_type": "code",
   "execution_count": 5,
   "id": "bae6e9d7",
   "metadata": {},
   "outputs": [
    {
     "data": {
      "image/png": "[encoded data removed]",
      "text/plain": [
       "<Figure size 432x288 with 1 Axes>"
      ]
     },
     "metadata": {
      "needs_background": "light"
     },
     "output_type": "display_data"
    }
   ],
   "source": [
    "hist(R,density=True);\n",
    "grid()"
   ]
  },
  {
   "cell_type": "markdown",
   "id": "70c74b1e",
   "metadata": {},
   "source": [
    "### Create a list of lists\n",
    "* Size of (outside) list is $m \\leq n$.\n",
    "* Each inside list starts empty.\n"
   ]
  },
  {
   "cell_type": "code",
   "execution_count": 45,
   "id": "cc557420",
   "metadata": {},
   "outputs": [],
   "source": [
    "m=int(n/10)\n",
    "L=[[] for i in range(m)]\n",
    "\n",
    "for r in R:\n",
    "    i=int(r*m) # scale random number from [0,1] to [0,n]\n",
    "    L[i].append(r) #append number to list at location i"
   ]
  },
  {
   "cell_type": "code",
   "execution_count": 46,
   "id": "dbac8739",
   "metadata": {
    "scrolled": true
   },
   "outputs": [
    {
     "data": {
      "text/plain": [
       "[[0.0004623258170051159,\n",
       "  0.00029952551909662173,\n",
       "  0.0004979861877291158,\n",
       "  0.0007346396782283993,\n",
       "  0.00043487611458425945,\n",
       "  0.0004941168266301421,\n",
       "  0.00014218574007685003,\n",
       "  0.0006764192482067166,\n",
       "  0.0009613456173251933],\n",
       " [0.0019613087726751965,\n",
       "  0.0011798032927079483,\n",
       "  0.0015655313136153648,\n",
       "  0.0010654477686328212,\n",
       "  0.0016867909677843462,\n",
       "  0.0017669672150567584,\n",
       "  0.001781211591975751,\n",
       "  0.001357898553196013,\n",
       "  0.0011727035173701994,\n",
       "  0.001360006847234585,\n",
       "  0.0017930404748632833,\n",
       "  0.0016416178637435053],\n",
       " [0.0025174598283865812,\n",
       "  0.002749492374669704,\n",
       "  0.002246055916972911,\n",
       "  0.0020847708804656584,\n",
       "  0.002648887911937625,\n",
       "  0.0021347446283210836,\n",
       "  0.0024454828633461156,\n",
       "  0.002112199721457153,\n",
       "  0.002424692499777281,\n",
       "  0.002386305488783602,\n",
       "  0.002016160293167868,\n",
       "  0.0028499723614986427,\n",
       "  0.0026338912371992595],\n",
       " [0.003154825537152295,\n",
       "  0.0037808658602571654,\n",
       "  0.0035427008888505584,\n",
       "  0.0031042905740276128,\n",
       "  0.0038176814616498467,\n",
       "  0.0031549940675320576,\n",
       "  0.0031593523741721974],\n",
       " [0.004263806455686137,\n",
       "  0.004626355749454136,\n",
       "  0.004219935953677978,\n",
       "  0.004693277761535053,\n",
       "  0.004236135656302653,\n",
       "  0.004264827585882203,\n",
       "  0.0040811505482631905,\n",
       "  0.004918188984758709],\n",
       " [0.005076081765988283,\n",
       "  0.005802501921859382,\n",
       "  0.00595679413051442,\n",
       "  0.005775321539674416,\n",
       "  0.005790061411648728,\n",
       "  0.0057255625693555245,\n",
       "  0.00588472257329431,\n",
       "  0.0058180895011406,\n",
       "  0.005596587717314194,\n",
       "  0.005573911006595433,\n",
       "  0.005895268799840925,\n",
       "  0.005471807132377937,\n",
       "  0.00500753980243851],\n",
       " [0.006074266998592259,\n",
       "  0.006448270254882593,\n",
       "  0.006496378846330364,\n",
       "  0.006105588583717014,\n",
       "  0.006120888570112393,\n",
       "  0.006070763143186886,\n",
       "  0.006695080528722697,\n",
       "  0.006012095537525464,\n",
       "  0.006916415724236735,\n",
       "  0.006803753887723474],\n",
       " [0.007415084334961741,\n",
       "  0.007685790377967905,\n",
       "  0.007561873834338151,\n",
       "  0.0077428353677344575,\n",
       "  0.0072534220238206215,\n",
       "  0.007595079772947266,\n",
       "  0.007644453023416542,\n",
       "  0.007569443787637464,\n",
       "  0.007840117283687609,\n",
       "  0.007969366200997419,\n",
       "  0.007134583380062343],\n",
       " [0.008424281313721083,\n",
       "  0.008624045092635813,\n",
       "  0.008485004309853994,\n",
       "  0.008845306181985979,\n",
       "  0.008237301266692532,\n",
       "  0.00882833352601331,\n",
       "  0.008564272174236609,\n",
       "  0.008200393661272898,\n",
       "  0.00851114839023237],\n",
       " [0.009207134219790136,\n",
       "  0.009242439363849053,\n",
       "  0.009025667940815163,\n",
       "  0.009528006191777627,\n",
       "  0.009689908827596683,\n",
       "  0.009203182082502148,\n",
       "  0.009254120503196406,\n",
       "  0.009052999753921487]]"
      ]
     },
     "execution_count": 46,
     "metadata": {},
     "output_type": "execute_result"
    }
   ],
   "source": [
    "L[:10] "
   ]
  },
  {
   "cell_type": "markdown",
   "id": "dc5566f8",
   "metadata": {},
   "source": [
    "### Size of fullest bin"
   ]
  },
  {
   "cell_type": "code",
   "execution_count": 47,
   "id": "bb5bf8d2",
   "metadata": {},
   "outputs": [
    {
     "data": {
      "text/plain": [
       "(2, 21)"
      ]
     },
     "execution_count": 47,
     "metadata": {},
     "output_type": "execute_result"
    }
   ],
   "source": [
    "lengths=[len(l) for l in L]\n",
    "min(lengths),max(lengths)"
   ]
  },
  {
   "cell_type": "markdown",
   "id": "6f099021",
   "metadata": {},
   "source": [
    "### sort each short list and concatanate"
   ]
  },
  {
   "cell_type": "code",
   "execution_count": 28,
   "id": "188e7689",
   "metadata": {},
   "outputs": [],
   "source": [
    "_sorted=[]\n",
    "for l in L:\n",
    "    _sorted +=sorted(l)"
   ]
  },
  {
   "cell_type": "code",
   "execution_count": 29,
   "id": "6d3ffeb8",
   "metadata": {},
   "outputs": [
    {
     "data": {
      "text/plain": [
       "[0.00014218574007685003,\n",
       " 0.00029952551909662173,\n",
       " 0.00043487611458425945,\n",
       " 0.0004623258170051159,\n",
       " 0.0004941168266301421,\n",
       " 0.0004979861877291158,\n",
       " 0.0006764192482067166,\n",
       " 0.0007346396782283993,\n",
       " 0.0009613456173251933,\n",
       " 0.0010654477686328212]"
      ]
     },
     "execution_count": 29,
     "metadata": {},
     "output_type": "execute_result"
    }
   ],
   "source": [
    "_sorted[:10]"
   ]
  },
  {
   "cell_type": "code",
   "execution_count": 30,
   "id": "fede5e3b",
   "metadata": {},
   "outputs": [
    {
     "data": {
      "text/plain": [
       "True"
      ]
     },
     "execution_count": 30,
     "metadata": {},
     "output_type": "execute_result"
    }
   ],
   "source": [
    "resort=sorted(_sorted)   # checking that the order is good.\n",
    "resort==_sorted"
   ]
  },
  {
   "cell_type": "markdown",
   "id": "747afa2b",
   "metadata": {},
   "source": [
    "### What about distributions other than uniform\n",
    "We can use the CDF of a distribution to transform it into a uniform distribution. "
   ]
  },
  {
   "cell_type": "code",
   "execution_count": 32,
   "id": "48235770",
   "metadata": {},
   "outputs": [],
   "source": [
    "from scipy.stats import norm"
   ]
  },
  {
   "cell_type": "code",
   "execution_count": 34,
   "id": "ba13ce2e",
   "metadata": {},
   "outputs": [],
   "source": [
    "mu=1; sigma=1; n=10000; m=100\n",
    "s = np.random.normal(mu, sigma, n)"
   ]
  },
  {
   "cell_type": "code",
   "execution_count": 37,
   "id": "2cc3ec85",
   "metadata": {
    "scrolled": true
   },
   "outputs": [
    {
     "data": {
      "image/png": "[encoded data removed]",
      "text/plain": [
       "<Figure size 432x288 with 1 Axes>"
      ]
     },
     "metadata": {
      "needs_background": "light"
     },
     "output_type": "display_data"
    }
   ],
   "source": [
    "xmin=-4; xmax=6; delta=1/n\n",
    "x=arange(xmin,xmax,delta)\n",
    "cdf=norm.cdf(x,loc=mu,scale=sigma)\n",
    "plot(x,cdf)\n",
    "grid()\n",
    "plt.hist(s, 30, density=True);"
   ]
  },
  {
   "cell_type": "markdown",
   "id": "87c54d2b",
   "metadata": {},
   "source": [
    "### Transforming the distribution to a uniform distribution\n",
    "We use $F$ to denote the CDF\n",
    "* $F(x) = P(X \\leq x)$\n",
    "*\n",
    "* $P( a < X \\leq b) = F(b) - F(a)$\n",
    "*\n",
    "* $P(F(a) < F(X) \\leq F(b)) = F(b) - F(a)$\n",
    "* \n",
    "* $F(X)$ is in the range [0,1]\n",
    "* \n",
    "* Let $A=F(a)$, $B=F(b)$, then $P(A \\leq F(X) \\leq B) = $\n",
    "* \n",
    "* $F(X)$ is distributed uniformly betweeen 0 and 1 "
   ]
  },
  {
   "cell_type": "code",
   "execution_count": 38,
   "id": "7f55176b",
   "metadata": {},
   "outputs": [
    {
     "data": {
      "image/png": "[encoded data removed]",
      "text/plain": [
       "<Figure size 432x288 with 1 Axes>"
      ]
     },
     "metadata": {
      "needs_background": "light"
     },
     "output_type": "display_data"
    }
   ],
   "source": [
    "index=np.array(x.shape[0]*(s-xmin)/(xmax-xmin),dtype=np.int)\n",
    "scaled=cdf[index]\n",
    "hist(scaled,density=True);\n",
    "grid()"
   ]
  },
  {
   "cell_type": "markdown",
   "id": "3dd1b0f2",
   "metadata": {},
   "source": [
    "### We can now use the sorting method for the uniform distribution"
   ]
  },
  {
   "cell_type": "code",
   "execution_count": 39,
   "id": "8eda355a",
   "metadata": {},
   "outputs": [],
   "source": [
    "m=100\n",
    "L=[[] for i in range(m)]\n",
    "\n",
    "for j in range(s.shape[0]):\n",
    "    r=s[j]\n",
    "    _scale=scaled[j]\n",
    "    i=int(_scale*m)\n",
    "    L[i].append(r)"
   ]
  },
  {
   "cell_type": "code",
   "execution_count": 48,
   "id": "3bf325e3",
   "metadata": {},
   "outputs": [],
   "source": [
    "_sorted=[]\n",
    "for l in L:\n",
    "    _sorted +=sorted(l)"
   ]
  },
  {
   "cell_type": "code",
   "execution_count": 49,
   "id": "71550cfb",
   "metadata": {},
   "outputs": [
    {
     "data": {
      "text/plain": [
       "[0.00014218574007685003,\n",
       " 0.00029952551909662173,\n",
       " 0.00043487611458425945,\n",
       " 0.0004623258170051159,\n",
       " 0.0004941168266301421,\n",
       " 0.0004979861877291158,\n",
       " 0.0006764192482067166,\n",
       " 0.0007346396782283993,\n",
       " 0.0009613456173251933,\n",
       " 0.0010654477686328212]"
      ]
     },
     "execution_count": 49,
     "metadata": {},
     "output_type": "execute_result"
    }
   ],
   "source": [
    "_sorted[:10]"
   ]
  },
  {
   "cell_type": "code",
   "execution_count": 50,
   "id": "0141acf4",
   "metadata": {},
   "outputs": [
    {
     "data": {
      "text/plain": [
       "True"
      ]
     },
     "execution_count": 50,
     "metadata": {},
     "output_type": "execute_result"
    }
   ],
   "source": [
    "resort=sorted(_sorted)   # checking that the order is good.\n",
    "resort==_sorted"
   ]
  },
  {
   "cell_type": "markdown",
   "id": "f18962f1",
   "metadata": {},
   "source": [
    "###  Sorting when the distribution is not known\n",
    "When the distribution is not know, we can estimate the CDF"
   ]
  },
  {
   "cell_type": "code",
   "execution_count": 86,
   "id": "aa41aadd",
   "metadata": {},
   "outputs": [
    {
     "data": {
      "text/plain": [
       "(80000,)"
      ]
     },
     "execution_count": 86,
     "metadata": {},
     "output_type": "execute_result"
    }
   ],
   "source": [
    "## Lets generate a complicated distribution\n",
    "n=20000\n",
    "s1 = np.random.normal(0, 1, n)\n",
    "s2 = np.random.normal(5, 2, n)\n",
    "s3 = np.random.normal(-10, 5, 2*n)\n",
    "s=concatenate([s1,s2,s3])\n",
    "s.shape"
   ]
  },
  {
   "cell_type": "code",
   "execution_count": 87,
   "id": "9834f254",
   "metadata": {},
   "outputs": [
    {
     "data": {
      "image/png": "[encoded data removed]",
      "text/plain": [
       "<Figure size 432x288 with 1 Axes>"
      ]
     },
     "metadata": {
      "needs_background": "light"
     },
     "output_type": "display_data"
    }
   ],
   "source": [
    "hist(s,bins=100);"
   ]
  },
  {
   "cell_type": "markdown",
   "id": "b750054f",
   "metadata": {},
   "source": [
    "### Calculating the CDF requires sorting\n",
    "So calculating the CDF requires sorting and $O(n)$ sorting requires knowing the CDF ...\n",
    "\n",
    "Are we stuck?"
   ]
  },
  {
   "cell_type": "code",
   "execution_count": 88,
   "id": "05146304",
   "metadata": {},
   "outputs": [],
   "source": [
    "def plot_CDF(s):\n",
    "    x=sorted(s)\n",
    "    p=arange(0,1,1/s.shape[0])\n",
    "    plot(x,p,label=str(s.shape[0]))"
   ]
  },
  {
   "cell_type": "code",
   "execution_count": 89,
   "id": "01838285",
   "metadata": {},
   "outputs": [
    {
     "data": {
      "image/png": "[encoded data removed]",
      "text/plain": [
       "<Figure size 432x288 with 1 Axes>"
      ]
     },
     "metadata": {
      "needs_background": "light"
     },
     "output_type": "display_data"
    }
   ],
   "source": [
    "plot_CDF(s)\n",
    "grid()\n",
    "legend();"
   ]
  },
  {
   "cell_type": "markdown",
   "id": "52a04cba",
   "metadata": {},
   "source": [
    "### Are we stuck?\n",
    "\n",
    "* **No!** we can approximate the CDF using a sample\n",
    "* Estimating the CDF does not require many examples (proof: more advanced probability)"
   ]
  },
  {
   "cell_type": "code",
   "execution_count": 92,
   "id": "c1ef9d97",
   "metadata": {},
   "outputs": [],
   "source": [
    "from numpy.random import choice"
   ]
  },
  {
   "cell_type": "code",
   "execution_count": 93,
   "id": "e9f640a4",
   "metadata": {},
   "outputs": [
    {
     "data": {
      "text/plain": [
       "<matplotlib.legend.Legend at 0x163677eb0>"
      ]
     },
     "execution_count": 93,
     "metadata": {},
     "output_type": "execute_result"
    },
    {
     "data": {
      "image/png": "[encoded data removed]",
      "text/plain": [
       "<Figure size 1080x720 with 1 Axes>"
      ]
     },
     "metadata": {
      "needs_background": "light"
     },
     "output_type": "display_data"
    }
   ],
   "source": [
    "figure(figsize=[15,10])\n",
    "for m in [50,500,80000]:\n",
    "    sample=choice(s,m)\n",
    "    plot_CDF(sample)\n",
    "grid()\n",
    "legend()"
   ]
  },
  {
   "cell_type": "markdown",
   "id": "85face5e",
   "metadata": {},
   "source": [
    "### Epilog\n",
    "We don't need a perfect CDF, we just need the resulting distribution to be approximately uniform over [0,1]\n",
    "\n",
    "This will not graded, but if you are up for the challange, write a program that takes as input $n$ data points drawn from some distribution, and sorts this data in $O(n)$"
   ]
  },
  {
   "cell_type": "code",
   "execution_count": null,
   "id": "d83c83aa",
   "metadata": {},
   "outputs": [],
   "source": []
  }
 ],
 "metadata": {
  "kernelspec": {
   "display_name": "Python 3 (ipykernel)",
   "language": "python",
   "name": "python3"
  },
  "language_info": {
   "codemirror_mode": {
    "name": "ipython",
    "version": 3
   },
   "file_extension": ".py",
   "mimetype": "text/x-python",
   "name": "python",
   "nbconvert_exporter": "python",
   "pygments_lexer": "ipython3",
   "version": "3.9.6"
  }
 },
 "nbformat": 4,
 "nbformat_minor": 5
}
